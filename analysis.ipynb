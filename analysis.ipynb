{
 "cells": [
  {
   "cell_type": "markdown",
   "metadata": {},
   "source": [
    "## TO DO\n",
    "1) clean data  \n",
    "\n",
    "    keep blanks for supplement video type - done\n",
    "    latest book mark is anything but 'latest viewing' - done\n",
    "    convert duration column - done\n",
    "    \n",
    "2) new columns  \n",
    "\n",
    "    add, year, month, day of the week columns, hour column\n",
    "    differentiate series vs movie using semi colon\n",
    "    add colum for if there is a series which season\n",
    "    \n",
    "    "
   ]
  },
  {
   "cell_type": "code",
   "execution_count": 94,
   "metadata": {},
   "outputs": [],
   "source": [
    "#packages\n",
    "import re\n",
    "import pandas as pd\n",
    "import numpy as np\n",
    "import matplotlib.pyplot as plt\n",
    "import seaborn as sns\n",
    "import datetime as dt\n",
    "\n",
    "#some basic functions\n",
    "def print_shape(dataframe,name):\n",
    "    #prints dataframe shape and name, name must be in quotes\n",
    "    # example print(dataframe,'my dataframe')\n",
    "    print(name+\" has: {} rows and {} columns\".format(dataframe.shape[0],dataframe.shape[1]))\n",
    "    \n",
    "\n",
    "#some less basic functions\n",
    "def movie_series_parser(x):\n",
    "    #counts how many semicolons occour, if 1 or zero, assume a movie, if two or more assume a series\n",
    "    #determines if text is a movie or series by looking to see if the word \"Season\" or \"Part\" after a semicolon\n",
    "    #if it does, a new column will be created called \"Season\" in the dataframe and that text will be entered there\n",
    "    #the rest of the function will then delete everthing after the word inclusive of \": Season\" or \": Part\"\n",
    "    Movie_or_series = \"\"\n",
    "    Season = \"\"\n",
    "    Title_of_production = \"\"\n",
    "    \n",
    "    if x.count(\":\") <2:\n",
    "        Movie_or_series = 'Movie'\n",
    "        Title_of_production = x\n",
    "        return Movie_or_series, Title_of_production, Season\n",
    "    else:\n",
    "        try:\n",
    "            Season_search = re.search(r\"(: Season \\d)|(: Part \\d)\",x)\n",
    "            Season = Season_search.group(1)  \n",
    "        except:\n",
    "            Season = 'None'   \n",
    "        \n",
    "        return Movie_or_series, Title_of_production, Season\n"
   ]
  },
  {
   "cell_type": "code",
   "execution_count": 95,
   "metadata": {},
   "outputs": [
    {
     "ename": "AttributeError",
     "evalue": "'NoneType' object has no attribute 'group'",
     "output_type": "error",
     "traceback": [
      "\u001b[0;31m---------------------------------------------------------------------------\u001b[0m",
      "\u001b[0;31mAttributeError\u001b[0m                            Traceback (most recent call last)",
      "\u001b[0;32m<ipython-input-95-5a04c6c79e36>\u001b[0m in \u001b[0;36m<module>\u001b[0;34m\u001b[0m\n\u001b[1;32m     17\u001b[0m \u001b[0mviewing_activity_df\u001b[0m\u001b[0;34m[\u001b[0m\u001b[0;34m\"Week_day\"\u001b[0m\u001b[0;34m]\u001b[0m\u001b[0;34m.\u001b[0m\u001b[0mreplace\u001b[0m\u001b[0;34m(\u001b[0m\u001b[0mweekday_dict\u001b[0m\u001b[0;34m,\u001b[0m \u001b[0minplace\u001b[0m\u001b[0;34m=\u001b[0m\u001b[0;32mTrue\u001b[0m\u001b[0;34m)\u001b[0m\u001b[0;34m\u001b[0m\u001b[0;34m\u001b[0m\u001b[0m\n\u001b[1;32m     18\u001b[0m \u001b[0;31m#\u001b[0m\u001b[0;34m\u001b[0m\u001b[0;34m\u001b[0m\u001b[0;34m\u001b[0m\u001b[0m\n\u001b[0;32m---> 19\u001b[0;31m \u001b[0mviewing_activity_df\u001b[0m\u001b[0;34m[\u001b[0m\u001b[0;34m'Movie_or_series'\u001b[0m\u001b[0;34m]\u001b[0m\u001b[0;34m,\u001b[0m \u001b[0mviewing_activity_df\u001b[0m\u001b[0;34m[\u001b[0m\u001b[0;34m'Title_of_production'\u001b[0m\u001b[0;34m]\u001b[0m\u001b[0;34m,\u001b[0m \u001b[0mviewing_activity_df\u001b[0m\u001b[0;34m[\u001b[0m\u001b[0;34m'Season'\u001b[0m\u001b[0;34m]\u001b[0m \u001b[0;34m=\u001b[0m \u001b[0mzip\u001b[0m\u001b[0;34m(\u001b[0m\u001b[0;34m*\u001b[0m\u001b[0mviewing_activity_df\u001b[0m\u001b[0;34m[\u001b[0m\u001b[0;34m'Title'\u001b[0m\u001b[0;34m]\u001b[0m\u001b[0;34m.\u001b[0m\u001b[0mapply\u001b[0m\u001b[0;34m(\u001b[0m\u001b[0mmovie_series_parser\u001b[0m\u001b[0;34m)\u001b[0m\u001b[0;34m)\u001b[0m\u001b[0;34m\u001b[0m\u001b[0;34m\u001b[0m\u001b[0m\n\u001b[0m\u001b[1;32m     20\u001b[0m \u001b[0;34m\u001b[0m\u001b[0m\n\u001b[1;32m     21\u001b[0m \u001b[0mprint_shape\u001b[0m\u001b[0;34m(\u001b[0m\u001b[0mviewing_activity_df\u001b[0m\u001b[0;34m,\u001b[0m\u001b[0;34m'Viewing Activity'\u001b[0m\u001b[0;34m)\u001b[0m\u001b[0;34m\u001b[0m\u001b[0;34m\u001b[0m\u001b[0m\n",
      "\u001b[0;32m/anaconda3/lib/python3.7/site-packages/pandas/core/series.py\u001b[0m in \u001b[0;36mapply\u001b[0;34m(self, func, convert_dtype, args, **kwds)\u001b[0m\n\u001b[1;32m   4043\u001b[0m             \u001b[0;32melse\u001b[0m\u001b[0;34m:\u001b[0m\u001b[0;34m\u001b[0m\u001b[0;34m\u001b[0m\u001b[0m\n\u001b[1;32m   4044\u001b[0m                 \u001b[0mvalues\u001b[0m \u001b[0;34m=\u001b[0m \u001b[0mself\u001b[0m\u001b[0;34m.\u001b[0m\u001b[0mastype\u001b[0m\u001b[0;34m(\u001b[0m\u001b[0mobject\u001b[0m\u001b[0;34m)\u001b[0m\u001b[0;34m.\u001b[0m\u001b[0mvalues\u001b[0m\u001b[0;34m\u001b[0m\u001b[0;34m\u001b[0m\u001b[0m\n\u001b[0;32m-> 4045\u001b[0;31m                 \u001b[0mmapped\u001b[0m \u001b[0;34m=\u001b[0m \u001b[0mlib\u001b[0m\u001b[0;34m.\u001b[0m\u001b[0mmap_infer\u001b[0m\u001b[0;34m(\u001b[0m\u001b[0mvalues\u001b[0m\u001b[0;34m,\u001b[0m \u001b[0mf\u001b[0m\u001b[0;34m,\u001b[0m \u001b[0mconvert\u001b[0m\u001b[0;34m=\u001b[0m\u001b[0mconvert_dtype\u001b[0m\u001b[0;34m)\u001b[0m\u001b[0;34m\u001b[0m\u001b[0;34m\u001b[0m\u001b[0m\n\u001b[0m\u001b[1;32m   4046\u001b[0m \u001b[0;34m\u001b[0m\u001b[0m\n\u001b[1;32m   4047\u001b[0m         \u001b[0;32mif\u001b[0m \u001b[0mlen\u001b[0m\u001b[0;34m(\u001b[0m\u001b[0mmapped\u001b[0m\u001b[0;34m)\u001b[0m \u001b[0;32mand\u001b[0m \u001b[0misinstance\u001b[0m\u001b[0;34m(\u001b[0m\u001b[0mmapped\u001b[0m\u001b[0;34m[\u001b[0m\u001b[0;36m0\u001b[0m\u001b[0;34m]\u001b[0m\u001b[0;34m,\u001b[0m \u001b[0mSeries\u001b[0m\u001b[0;34m)\u001b[0m\u001b[0;34m:\u001b[0m\u001b[0;34m\u001b[0m\u001b[0;34m\u001b[0m\u001b[0m\n",
      "\u001b[0;32mpandas/_libs/lib.pyx\u001b[0m in \u001b[0;36mpandas._libs.lib.map_infer\u001b[0;34m()\u001b[0m\n",
      "\u001b[0;32m<ipython-input-94-f61fa5d43fa8>\u001b[0m in \u001b[0;36mmovie_series_parser\u001b[0;34m(x)\u001b[0m\n\u001b[1;32m     30\u001b[0m     \u001b[0;32melse\u001b[0m\u001b[0;34m:\u001b[0m\u001b[0;34m\u001b[0m\u001b[0;34m\u001b[0m\u001b[0m\n\u001b[1;32m     31\u001b[0m         \u001b[0mSeason_search\u001b[0m \u001b[0;34m=\u001b[0m \u001b[0mre\u001b[0m\u001b[0;34m.\u001b[0m\u001b[0msearch\u001b[0m\u001b[0;34m(\u001b[0m\u001b[0;34mr\"(: Season \\d)|(: Part \\d)\"\u001b[0m\u001b[0;34m,\u001b[0m\u001b[0mx\u001b[0m\u001b[0;34m)\u001b[0m\u001b[0;34m\u001b[0m\u001b[0;34m\u001b[0m\u001b[0m\n\u001b[0;32m---> 32\u001b[0;31m         \u001b[0mSeason\u001b[0m \u001b[0;34m=\u001b[0m \u001b[0mSeason_search\u001b[0m\u001b[0;34m.\u001b[0m\u001b[0mgroup\u001b[0m\u001b[0;34m(\u001b[0m\u001b[0;36m1\u001b[0m\u001b[0;34m)\u001b[0m\u001b[0;34m\u001b[0m\u001b[0;34m\u001b[0m\u001b[0m\n\u001b[0m\u001b[1;32m     33\u001b[0m \u001b[0;34m\u001b[0m\u001b[0m\n\u001b[1;32m     34\u001b[0m         \u001b[0;32mreturn\u001b[0m \u001b[0mMovie_or_series\u001b[0m\u001b[0;34m,\u001b[0m \u001b[0mTitle_of_production\u001b[0m\u001b[0;34m,\u001b[0m \u001b[0mSeason\u001b[0m\u001b[0;34m\u001b[0m\u001b[0;34m\u001b[0m\u001b[0m\n",
      "\u001b[0;31mAttributeError\u001b[0m: 'NoneType' object has no attribute 'group'"
     ]
    }
   ],
   "source": [
    "#import data\n",
    "viewing_activity_df = pd.read_csv('data/ViewingActivity.csv',parse_dates = ['Start Time'])\n",
    "billing_history_df = pd.read_csv('data/BillingHistory.csv',parse_dates=['Transaction Date'])\n",
    "\n",
    "#clean up viewing history data\n",
    "#latest view is duplicate data and supplemental video are netflix ads\n",
    "#convert duration to a floating numbers\n",
    "viewing_activity_df = viewing_activity_df[viewing_activity_df['Latest Bookmark']!='Not latest view']\n",
    "viewing_activity_df = viewing_activity_df[viewing_activity_df['Supplemental Video Type'].isnull()].reset_index(drop=True)\n",
    "viewing_activity_df['Duration_floating_hours'] = pd.to_timedelta(viewing_activity_df['Duration'],unit='hours').dt.total_seconds()/3600\n",
    "#add new columns, year, month, hour, weekday, add if movie or series, if series which season\n",
    "viewing_activity_df['Year'] = viewing_activity_df['Start Time'].dt.year\n",
    "viewing_activity_df['Month'] = viewing_activity_df['Start Time'].dt.month\n",
    "viewing_activity_df['Hour'] = viewing_activity_df['Start Time'].dt.hour\n",
    "viewing_activity_df['Week_day'] = viewing_activity_df['Start Time'].dt.dayofweek\n",
    "weekday_dict = {0:'Sunday',1:'Monday',2:'Tuesday',3:'Wednesday',4:'Thursday',5:'Friday',6:'Saturday'}\n",
    "viewing_activity_df[\"Week_day\"].replace(weekday_dict, inplace=True)\n",
    "#\n",
    "viewing_activity_df['Movie_or_series'], viewing_activity_df['Title_of_production'], viewing_activity_df['Season'] = zip(*viewing_activity_df['Title'].apply(movie_series_parser))\n",
    "\n",
    "print_shape(viewing_activity_df,'Viewing Activity')\n",
    "viewing_activity_df.head()\n",
    "\n"
   ]
  },
  {
   "cell_type": "code",
   "execution_count": null,
   "metadata": {},
   "outputs": [],
   "source": []
  },
  {
   "cell_type": "code",
   "execution_count": null,
   "metadata": {},
   "outputs": [],
   "source": []
  }
 ],
 "metadata": {
  "kernelspec": {
   "display_name": "Python 3",
   "language": "python",
   "name": "python3"
  },
  "language_info": {
   "codemirror_mode": {
    "name": "ipython",
    "version": 3
   },
   "file_extension": ".py",
   "mimetype": "text/x-python",
   "name": "python",
   "nbconvert_exporter": "python",
   "pygments_lexer": "ipython3",
   "version": "3.7.3"
  }
 },
 "nbformat": 4,
 "nbformat_minor": 2
}
